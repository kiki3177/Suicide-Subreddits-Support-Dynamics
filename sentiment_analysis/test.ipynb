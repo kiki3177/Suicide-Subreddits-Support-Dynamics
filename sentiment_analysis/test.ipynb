{
 "cells": [
  {
   "cell_type": "code",
   "id": "initial_id",
   "metadata": {
    "collapsed": true,
    "ExecuteTime": {
     "end_time": "2025-05-10T00:26:33.883616Z",
     "start_time": "2025-05-10T00:26:33.785660Z"
    }
   },
   "source": [
    "import pandas as pd\n",
    "\n",
    "df = pd.read_csv(\"transformer_results_new/suicide_core_comments_2024_sentiment_analysis.csv\")\n",
    "\n",
    "df['adjusted_total'] = df['adjusted_positive'] + df['adjusted_empathy']\n",
    "df_filter = df[df['reply_confidence'] >= 0.7]\n",
    "reply_type_counts = df_filter['reply_type'].value_counts(normalize=True) * 100\n",
    "reply_type_percentages = reply_type_counts.to_dict()\n",
    "\n",
    "print(\"Percentage of each reply type:\")\n",
    "for label, pct in reply_type_percentages.items():\n",
    "    print(f\"{label}: {pct:.2f}%\")\n",
    "\n",
    "avg_positive = df_filter['adjusted_positive'].mean()\n",
    "avg_empathy = df_filter['adjusted_empathy'].mean()\n",
    "avg_total = df_filter['adjusted_total'].mean()\n",
    "\n",
    "print(f\"Average adjusted positive score (confidence >= 0.7): {avg_positive:.4f}\")\n",
    "print(f\"Average adjusted empathy score (confidence >= 0.7): {avg_empathy:.4f}\")\n",
    "print(f\"Average adjusted total score (confidence >= 0.7): {avg_total:.4f}\")\n"
   ],
   "outputs": [
    {
     "name": "stdout",
     "output_type": "stream",
     "text": [
      "Percentage of each reply type:\n",
      "substantive support: 84.48%\n",
      "casual politeness: 15.52%\n",
      "Average adjusted positive score (confidence >= 0.7): 3.0287\n",
      "Average adjusted empathy score (confidence >= 0.7): 0.6360\n",
      "Average adjusted total score (confidence >= 0.7): 3.6647\n"
     ]
    }
   ],
   "execution_count": 29
  },
  {
   "metadata": {
    "ExecuteTime": {
     "end_time": "2025-05-10T00:26:41.698966Z",
     "start_time": "2025-05-10T00:26:41.672353Z"
    }
   },
   "cell_type": "code",
   "source": [
    "df = pd.read_csv(\"transformer_results_new/suicide_random_comments_2024_sentiment_analysis.csv\")\n",
    "\n",
    "df['adjusted_total'] = df['adjusted_positive'] + df['adjusted_empathy']\n",
    "df_filter = df[df['reply_confidence'] >= 0.7]\n",
    "reply_type_counts = df_filter['reply_type'].value_counts(normalize=True) * 100\n",
    "reply_type_percentages = reply_type_counts.to_dict()\n",
    "\n",
    "print(\"Percentage of each reply type:\")\n",
    "for label, pct in reply_type_percentages.items():\n",
    "    print(f\"{label}: {pct:.2f}%\")\n",
    "\n",
    "avg_positive = df_filter['adjusted_positive'].mean()\n",
    "avg_empathy = df_filter['adjusted_empathy'].mean()\n",
    "avg_total = df_filter['adjusted_total'].mean()\n",
    "\n",
    "print(f\"Average adjusted positive score (confidence >= 0.7): {avg_positive:.4f}\")\n",
    "print(f\"Average adjusted empathy score (confidence >= 0.7): {avg_empathy:.4f}\")\n",
    "print(f\"Average adjusted total score (confidence >= 0.7): {avg_total:.4f}\")"
   ],
   "id": "4809c30e932829a6",
   "outputs": [
    {
     "name": "stdout",
     "output_type": "stream",
     "text": [
      "Percentage of each reply type:\n",
      "substantive support: 82.53%\n",
      "casual politeness: 17.47%\n",
      "Average adjusted positive score (confidence >= 0.7): 3.0645\n",
      "Average adjusted empathy score (confidence >= 0.7): 0.6767\n",
      "Average adjusted total score (confidence >= 0.7): 3.7412\n"
     ]
    }
   ],
   "execution_count": 30
  },
  {
   "metadata": {
    "ExecuteTime": {
     "end_time": "2025-05-10T00:26:49.045955Z",
     "start_time": "2025-05-10T00:26:48.946097Z"
    }
   },
   "cell_type": "code",
   "source": [
    "df = pd.read_csv(\"transformer_results_new/depression_core_comments_2024_sentiment_analysis.csv\")\n",
    "\n",
    "df['adjusted_total'] = df['adjusted_positive'] + df['adjusted_empathy']\n",
    "df_filter = df[df['reply_confidence'] >= 0.7]\n",
    "reply_type_counts = df_filter['reply_type'].value_counts(normalize=True) * 100\n",
    "reply_type_percentages = reply_type_counts.to_dict()\n",
    "\n",
    "print(\"Percentage of each reply type:\")\n",
    "for label, pct in reply_type_percentages.items():\n",
    "    print(f\"{label}: {pct:.2f}%\")\n",
    "\n",
    "avg_positive = df_filter['adjusted_positive'].mean()\n",
    "avg_empathy = df_filter['adjusted_empathy'].mean()\n",
    "avg_total = df_filter['adjusted_total'].mean()\n",
    "\n",
    "print(f\"Average adjusted positive score (confidence >= 0.7): {avg_positive:.4f}\")\n",
    "print(f\"Average adjusted empathy score (confidence >= 0.7): {avg_empathy:.4f}\")\n",
    "print(f\"Average adjusted total score (confidence >= 0.7): {avg_total:.4f}\")"
   ],
   "id": "2270ed92fdc90cb9",
   "outputs": [
    {
     "name": "stdout",
     "output_type": "stream",
     "text": [
      "Percentage of each reply type:\n",
      "substantive support: 86.77%\n",
      "casual politeness: 13.23%\n",
      "Average adjusted positive score (confidence >= 0.7): 3.2063\n",
      "Average adjusted empathy score (confidence >= 0.7): 0.7917\n",
      "Average adjusted total score (confidence >= 0.7): 3.9980\n"
     ]
    }
   ],
   "execution_count": 31
  },
  {
   "metadata": {
    "ExecuteTime": {
     "end_time": "2025-05-10T00:26:54.487671Z",
     "start_time": "2025-05-10T00:26:54.473327Z"
    }
   },
   "cell_type": "code",
   "source": [
    "df = pd.read_csv(\"transformer_results_new/depression_random_comments_2024_sentiment_analysis.csv\")\n",
    "\n",
    "df['adjusted_total'] = df['adjusted_positive'] + df['adjusted_empathy']\n",
    "df_filter = df[df['reply_confidence'] >= 0.7]\n",
    "reply_type_counts = df_filter['reply_type'].value_counts(normalize=True) * 100\n",
    "reply_type_percentages = reply_type_counts.to_dict()\n",
    "\n",
    "print(\"Percentage of each reply type:\")\n",
    "for label, pct in reply_type_percentages.items():\n",
    "    print(f\"{label}: {pct:.2f}%\")\n",
    "\n",
    "avg_positive = df_filter['adjusted_positive'].mean()\n",
    "avg_empathy = df_filter['adjusted_empathy'].mean()\n",
    "avg_total = df_filter['adjusted_total'].mean()\n",
    "\n",
    "print(f\"Average adjusted positive score (confidence >= 0.7): {avg_positive:.4f}\")\n",
    "print(f\"Average adjusted empathy score (confidence >= 0.7): {avg_empathy:.4f}\")\n",
    "print(f\"Average adjusted total score (confidence >= 0.7): {avg_total:.4f}\")"
   ],
   "id": "442254d80be43ddf",
   "outputs": [
    {
     "name": "stdout",
     "output_type": "stream",
     "text": [
      "Percentage of each reply type:\n",
      "substantive support: 84.31%\n",
      "casual politeness: 15.69%\n",
      "Average adjusted positive score (confidence >= 0.7): 3.4112\n",
      "Average adjusted empathy score (confidence >= 0.7): 0.4029\n",
      "Average adjusted total score (confidence >= 0.7): 3.8141\n"
     ]
    }
   ],
   "execution_count": 32
  },
  {
   "metadata": {
    "ExecuteTime": {
     "end_time": "2025-05-10T00:27:01.243468Z",
     "start_time": "2025-05-10T00:27:00.875709Z"
    }
   },
   "cell_type": "code",
   "source": [
    "df = pd.read_csv(\"transformer_results_new/suicide_core_comments_2023_sentiment_analysis.csv\")\n",
    "\n",
    "df['adjusted_total'] = df['adjusted_positive'] + df['adjusted_empathy']\n",
    "df_filter = df[df['reply_confidence'] >= 0.7]\n",
    "reply_type_counts = df_filter['reply_type'].value_counts(normalize=True) * 100\n",
    "reply_type_percentages = reply_type_counts.to_dict()\n",
    "\n",
    "print(\"Percentage of each reply type:\")\n",
    "for label, pct in reply_type_percentages.items():\n",
    "    print(f\"{label}: {pct:.2f}%\")\n",
    "\n",
    "avg_positive = df_filter['adjusted_positive'].mean()\n",
    "avg_empathy = df_filter['adjusted_empathy'].mean()\n",
    "avg_total = df_filter['adjusted_total'].mean()\n",
    "\n",
    "print(f\"Average adjusted positive score (confidence >= 0.7): {avg_positive:.4f}\")\n",
    "print(f\"Average adjusted empathy score (confidence >= 0.7): {avg_empathy:.4f}\")\n",
    "print(f\"Average adjusted total score (confidence >= 0.7): {avg_total:.4f}\")\n"
   ],
   "id": "627abe57d631acc4",
   "outputs": [
    {
     "name": "stdout",
     "output_type": "stream",
     "text": [
      "Percentage of each reply type:\n",
      "substantive support: 86.63%\n",
      "casual politeness: 13.37%\n",
      "Average adjusted positive score (confidence >= 0.7): 3.6321\n",
      "Average adjusted empathy score (confidence >= 0.7): 0.5419\n",
      "Average adjusted total score (confidence >= 0.7): 4.1740\n"
     ]
    }
   ],
   "execution_count": 33
  },
  {
   "metadata": {
    "ExecuteTime": {
     "end_time": "2025-05-10T00:27:07.143155Z",
     "start_time": "2025-05-10T00:27:07.127049Z"
    }
   },
   "cell_type": "code",
   "source": [
    "df = pd.read_csv(\"transformer_results_new/suicide_random_comments_2023_sentiment_analysis.csv\")\n",
    "\n",
    "df['adjusted_total'] = df['adjusted_positive'] + df['adjusted_empathy']\n",
    "df_filter = df[df['reply_confidence'] >= 0.7]\n",
    "reply_type_counts = df_filter['reply_type'].value_counts(normalize=True) * 100\n",
    "reply_type_percentages = reply_type_counts.to_dict()\n",
    "\n",
    "print(\"Percentage of each reply type:\")\n",
    "for label, pct in reply_type_percentages.items():\n",
    "    print(f\"{label}: {pct:.2f}%\")\n",
    "\n",
    "avg_positive = df_filter['adjusted_positive'].mean()\n",
    "avg_empathy = df_filter['adjusted_empathy'].mean()\n",
    "avg_total = df_filter['adjusted_total'].mean()\n",
    "\n",
    "print(f\"Average adjusted positive score (confidence >= 0.7): {avg_positive:.4f}\")\n",
    "print(f\"Average adjusted empathy score (confidence >= 0.7): {avg_empathy:.4f}\")\n",
    "print(f\"Average adjusted total score (confidence >= 0.7): {avg_total:.4f}\")"
   ],
   "id": "c0ee20448d73336e",
   "outputs": [
    {
     "name": "stdout",
     "output_type": "stream",
     "text": [
      "Percentage of each reply type:\n",
      "substantive support: 82.14%\n",
      "casual politeness: 17.86%\n",
      "Average adjusted positive score (confidence >= 0.7): 3.3700\n",
      "Average adjusted empathy score (confidence >= 0.7): 0.9550\n",
      "Average adjusted total score (confidence >= 0.7): 4.3249\n"
     ]
    }
   ],
   "execution_count": 34
  },
  {
   "metadata": {
    "ExecuteTime": {
     "end_time": "2025-05-10T00:27:13.377491Z",
     "start_time": "2025-05-10T00:27:13.129308Z"
    }
   },
   "cell_type": "code",
   "source": [
    "df = pd.read_csv(\"transformer_results_new/depression_core_comments_2023_sentiment_analysis.csv\")\n",
    "\n",
    "df['adjusted_total'] = df['adjusted_positive'] + df['adjusted_empathy']\n",
    "df_filter = df[df['reply_confidence'] >= 0.7]\n",
    "reply_type_counts = df_filter['reply_type'].value_counts(normalize=True) * 100\n",
    "reply_type_percentages = reply_type_counts.to_dict()\n",
    "\n",
    "print(\"Percentage of each reply type:\")\n",
    "for label, pct in reply_type_percentages.items():\n",
    "    print(f\"{label}: {pct:.2f}%\")\n",
    "\n",
    "avg_positive = df_filter['adjusted_positive'].mean()\n",
    "avg_empathy = df_filter['adjusted_empathy'].mean()\n",
    "avg_total = df_filter['adjusted_total'].mean()\n",
    "\n",
    "print(f\"Average adjusted positive score (confidence >= 0.7): {avg_positive:.4f}\")\n",
    "print(f\"Average adjusted empathy score (confidence >= 0.7): {avg_empathy:.4f}\")\n",
    "print(f\"Average adjusted total score (confidence >= 0.7): {avg_total:.4f}\")"
   ],
   "id": "ce58982e8f310719",
   "outputs": [
    {
     "name": "stdout",
     "output_type": "stream",
     "text": [
      "Percentage of each reply type:\n",
      "substantive support: 89.54%\n",
      "casual politeness: 10.46%\n",
      "Average adjusted positive score (confidence >= 0.7): 3.6647\n",
      "Average adjusted empathy score (confidence >= 0.7): 0.6280\n",
      "Average adjusted total score (confidence >= 0.7): 4.2927\n"
     ]
    }
   ],
   "execution_count": 35
  },
  {
   "metadata": {
    "ExecuteTime": {
     "end_time": "2025-05-10T00:27:23.366210Z",
     "start_time": "2025-05-10T00:27:23.357275Z"
    }
   },
   "cell_type": "code",
   "source": [
    "df = pd.read_csv(\"transformer_results_new/depression_random_comments_2023_sentiment_analysis.csv\")\n",
    "\n",
    "df['adjusted_total'] = df['adjusted_positive'] + df['adjusted_empathy']\n",
    "df_filter = df[df['reply_confidence'] >= 0.7]\n",
    "reply_type_counts = df_filter['reply_type'].value_counts(normalize=True) * 100\n",
    "reply_type_percentages = reply_type_counts.to_dict()\n",
    "\n",
    "print(\"Percentage of each reply type:\")\n",
    "for label, pct in reply_type_percentages.items():\n",
    "    print(f\"{label}: {pct:.2f}%\")\n",
    "\n",
    "avg_positive = df_filter['adjusted_positive'].mean()\n",
    "avg_empathy = df_filter['adjusted_empathy'].mean()\n",
    "avg_total = df_filter['adjusted_total'].mean()\n",
    "\n",
    "print(f\"Average adjusted positive score (confidence >= 0.7): {avg_positive:.4f}\")\n",
    "print(f\"Average adjusted empathy score (confidence >= 0.7): {avg_empathy:.4f}\")\n",
    "print(f\"Average adjusted total score (confidence >= 0.7): {avg_total:.4f}\")"
   ],
   "id": "92ee992c436351e5",
   "outputs": [
    {
     "name": "stdout",
     "output_type": "stream",
     "text": [
      "Percentage of each reply type:\n",
      "substantive support: 84.62%\n",
      "casual politeness: 15.38%\n",
      "Average adjusted positive score (confidence >= 0.7): 2.3621\n",
      "Average adjusted empathy score (confidence >= 0.7): 0.9430\n",
      "Average adjusted total score (confidence >= 0.7): 3.3051\n"
     ]
    }
   ],
   "execution_count": 37
  },
  {
   "metadata": {
    "ExecuteTime": {
     "end_time": "2025-05-10T00:56:53.149380Z",
     "start_time": "2025-05-10T00:56:52.379140Z"
    }
   },
   "cell_type": "code",
   "source": [
    "import pandas as pd\n",
    "\n",
    "# Define your file paths\n",
    "files = [\n",
    "    (\"suicide_core_comments_2024\", \"transformer_results_new/suicide_core_comments_2024_sentiment_analysis.csv\"),\n",
    "    (\"suicide_random_comments_2024\", \"transformer_results_new/suicide_random_comments_2024_sentiment_analysis.csv\"),\n",
    "    (\"depression_core_comments_2024\", \"transformer_results_new/depression_core_comments_2024_sentiment_analysis.csv\"),\n",
    "    (\"depression_random_comments_2024\", \"transformer_results_new/depression_random_comments_2024_sentiment_analysis.csv\"),\n",
    "    (\"suicide_core_comments_2023\", \"transformer_results_new/suicide_core_comments_2023_sentiment_analysis.csv\"),\n",
    "    (\"suicide_random_comments_2023\", \"transformer_results_new/suicide_random_comments_2023_sentiment_analysis.csv\"),\n",
    "    (\"depression_core_comments_2023\", \"transformer_results_new/depression_core_comments_2023_sentiment_analysis.csv\"),\n",
    "    (\"depression_random_comments_2023\", \"transformer_results_new/depression_random_comments_2023_sentiment_analysis.csv\"),\n",
    "]\n",
    "\n",
    "# Initialize summary list\n",
    "summary_data = []\n",
    "\n",
    "for label, filepath in files:\n",
    "    df = pd.read_csv(filepath)\n",
    "    df['adjusted_total'] = df['adjusted_positive'] + df['adjusted_empathy']\n",
    "    df_filter = df[df['reply_confidence'] >= 0.7]\n",
    "\n",
    "    reply_type_counts = df_filter['reply_type'].value_counts(normalize=True) * 100\n",
    "    reply_type_percentages = reply_type_counts.to_dict()\n",
    "\n",
    "    avg_positive = df_filter['adjusted_positive'].mean()\n",
    "    avg_empathy = df_filter['adjusted_empathy'].mean()\n",
    "    avg_total = df_filter['adjusted_total'].mean()\n",
    "\n",
    "    # Print summary\n",
    "    print(f\"\\n{label}\")\n",
    "    print(\"Percentage of each reply type (confidence >= 0.7):\")\n",
    "    for reply_type, pct in reply_type_percentages.items():\n",
    "        print(f\"{reply_type}: {pct:.2f}%\")\n",
    "    print(f\"Average adjusted positive score (confidence >= 0.7): {avg_positive:.4f}\")\n",
    "    print(f\"Average adjusted empathy score (confidence >= 0.7): {avg_empathy:.4f}\")\n",
    "    print(f\"Average adjusted total score (confidence >= 0.7): {avg_total:.4f}\")\n",
    "\n",
    "    # Save to summary\n",
    "    summary_data.append({\n",
    "        \"dataset\": label,\n",
    "        \"substantive_support_pct\": reply_type_percentages.get('substantive support', 0),\n",
    "        \"casual_politeness_pct\": reply_type_percentages.get('casual politeness', 0),\n",
    "        \"avg_adjusted_positive\": avg_positive,\n",
    "        \"avg_adjusted_empathy\": avg_empathy,\n",
    "        \"avg_adjusted_total\": avg_total\n",
    "    })\n",
    "\n",
    "# Create summary DataFrame\n",
    "summary_df = pd.DataFrame(summary_data)\n",
    "\n",
    "# Save summary to CSV\n",
    "summary_df.to_csv(\"transformer_results_new/summary_results.csv\", index=False)\n",
    "print(\"\\nSummary saved to transformer_results_new/summary_results.csv\")\n"
   ],
   "id": "d34371afd0634f42",
   "outputs": [
    {
     "name": "stdout",
     "output_type": "stream",
     "text": [
      "\n",
      "suicide_core_comments_2024\n",
      "Percentage of each reply type (confidence >= 0.7):\n",
      "substantive support: 84.48%\n",
      "casual politeness: 15.52%\n",
      "Average adjusted positive score (confidence >= 0.7): 3.0287\n",
      "Average adjusted empathy score (confidence >= 0.7): 0.6360\n",
      "Average adjusted total score (confidence >= 0.7): 3.6647\n",
      "\n",
      "suicide_random_comments_2024\n",
      "Percentage of each reply type (confidence >= 0.7):\n",
      "substantive support: 82.53%\n",
      "casual politeness: 17.47%\n",
      "Average adjusted positive score (confidence >= 0.7): 3.0645\n",
      "Average adjusted empathy score (confidence >= 0.7): 0.6767\n",
      "Average adjusted total score (confidence >= 0.7): 3.7412\n",
      "\n",
      "depression_core_comments_2024\n",
      "Percentage of each reply type (confidence >= 0.7):\n",
      "substantive support: 86.77%\n",
      "casual politeness: 13.23%\n",
      "Average adjusted positive score (confidence >= 0.7): 3.2063\n",
      "Average adjusted empathy score (confidence >= 0.7): 0.7917\n",
      "Average adjusted total score (confidence >= 0.7): 3.9980\n",
      "\n",
      "depression_random_comments_2024\n",
      "Percentage of each reply type (confidence >= 0.7):\n",
      "substantive support: 84.31%\n",
      "casual politeness: 15.69%\n",
      "Average adjusted positive score (confidence >= 0.7): 3.4112\n",
      "Average adjusted empathy score (confidence >= 0.7): 0.4029\n",
      "Average adjusted total score (confidence >= 0.7): 3.8141\n",
      "\n",
      "suicide_core_comments_2023\n",
      "Percentage of each reply type (confidence >= 0.7):\n",
      "substantive support: 86.63%\n",
      "casual politeness: 13.37%\n",
      "Average adjusted positive score (confidence >= 0.7): 3.6321\n",
      "Average adjusted empathy score (confidence >= 0.7): 0.5419\n",
      "Average adjusted total score (confidence >= 0.7): 4.1740\n",
      "\n",
      "suicide_random_comments_2023\n",
      "Percentage of each reply type (confidence >= 0.7):\n",
      "substantive support: 82.14%\n",
      "casual politeness: 17.86%\n",
      "Average adjusted positive score (confidence >= 0.7): 3.3700\n",
      "Average adjusted empathy score (confidence >= 0.7): 0.9550\n",
      "Average adjusted total score (confidence >= 0.7): 4.3249\n",
      "\n",
      "depression_core_comments_2023\n",
      "Percentage of each reply type (confidence >= 0.7):\n",
      "substantive support: 89.54%\n",
      "casual politeness: 10.46%\n",
      "Average adjusted positive score (confidence >= 0.7): 3.6647\n",
      "Average adjusted empathy score (confidence >= 0.7): 0.6280\n",
      "Average adjusted total score (confidence >= 0.7): 4.2927\n",
      "\n",
      "depression_random_comments_2023\n",
      "Percentage of each reply type (confidence >= 0.7):\n",
      "substantive support: 84.62%\n",
      "casual politeness: 15.38%\n",
      "Average adjusted positive score (confidence >= 0.7): 2.3621\n",
      "Average adjusted empathy score (confidence >= 0.7): 0.9430\n",
      "Average adjusted total score (confidence >= 0.7): 3.3051\n",
      "\n",
      "Summary saved to transformer_results_new/summary_results.csv\n"
     ]
    }
   ],
   "execution_count": 39
  },
  {
   "metadata": {},
   "cell_type": "code",
   "outputs": [],
   "execution_count": null,
   "source": "",
   "id": "b5eb992a7a88646a"
  }
 ],
 "metadata": {
  "kernelspec": {
   "display_name": "Python 3",
   "language": "python",
   "name": "python3"
  },
  "language_info": {
   "codemirror_mode": {
    "name": "ipython",
    "version": 2
   },
   "file_extension": ".py",
   "mimetype": "text/x-python",
   "name": "python",
   "nbconvert_exporter": "python",
   "pygments_lexer": "ipython2",
   "version": "2.7.6"
  }
 },
 "nbformat": 4,
 "nbformat_minor": 5
}
